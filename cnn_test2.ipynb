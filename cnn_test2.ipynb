{
 "cells": [
  {
   "cell_type": "code",
   "id": "initial_id",
   "metadata": {
    "collapsed": true,
    "ExecuteTime": {
     "end_time": "2025-03-27T15:03:57.744124Z",
     "start_time": "2025-03-27T15:03:57.737287Z"
    }
   },
   "source": [
    "import os\n",
    "import numpy as np\n",
    "import torch\n",
    "from sklearn.model_selection import train_test_split\n",
    "from torch.utils.data import Dataset, DataLoader, Subset\n",
    "import pytorch_lightning as pl\n",
    "import torch.nn as nn\n",
    "import torch.optim as optim\n",
    "from pytorch_lightning import Trainer\n",
    "from sklearn.metrics import mean_squared_error, mean_absolute_error, r2_score\n",
    "import torch\n",
    "import torch.nn as nn\n",
    "import torch.optim as optim\n",
    "import pytorch_lightning as pl\n",
    "import torchmetrics\n",
    "import torch.utils.data as td\n",
    "import torch\n",
    "import seaborn as sns\n",
    "import matplotlib.pyplot as plt\n",
    "from sklearn.metrics import confusion_matrix, classification_report"
   ],
   "outputs": [],
   "execution_count": 64
  },
  {
   "metadata": {},
   "cell_type": "markdown",
   "source": "# Dataset",
   "id": "3b1515dd61894c71"
  },
  {
   "metadata": {
    "ExecuteTime": {
     "end_time": "2025-03-27T15:03:57.777718Z",
     "start_time": "2025-03-27T15:03:57.768830Z"
    }
   },
   "cell_type": "code",
   "source": [
    "class TensorDataset(td.Dataset):\n",
    "    def __init__(self, data_dir, labels, max_frames=115):\n",
    "        \n",
    "        self.data_dir = data_dir\n",
    "        self.labels = labels\n",
    "        self.max_frames = max_frames\n",
    "\n",
    "    def __len__(self):\n",
    "        return len(self.data_dir)\n",
    "    \n",
    "    def __getitem__(self, item):\n",
    "        tensor_path = self.data_dir[item]\n",
    "        tensor = np.load(tensor_path)\n",
    "        if tensor.shape[0] > self.max_frames:\n",
    "            tensor = tensor[:self.max_frames]\n",
    "        label = int(self.labels[item])\n",
    "        \n",
    "        tensor = np.transpose(tensor, (2, 0, 1))\n",
    "        \n",
    "        return {\n",
    "            \"tensor\": torch.tensor(tensor, dtype=torch.float),\n",
    "            \"label\": torch.tensor(label, dtype=torch.long)\n",
    "        }\n"
   ],
   "id": "e81798414902df7b",
   "outputs": [],
   "execution_count": 65
  },
  {
   "metadata": {
    "ExecuteTime": {
     "end_time": "2025-03-27T15:03:57.819598Z",
     "start_time": "2025-03-27T15:03:57.811799Z"
    }
   },
   "cell_type": "code",
   "source": [
    "class TensorDataLoader(pl.LightningDataModule):\n",
    "    def __init__(self, data, batch_size, max_frames=115):\n",
    "        super().__init__()\n",
    "        self.data = data\n",
    "        self.batch_size = batch_size\n",
    "        self.max_frames = max_frames\n",
    "        \n",
    "        self.train = None\n",
    "        self.val = None\n",
    "        self.test = None\n",
    "\n",
    "    def setup(self, stage: str = None):\n",
    "        if stage not in [\"train\", \"val\", \"test\"]:\n",
    "            raise ValueError(f\"Invalid stage {stage}, expected 'train', 'val' or 'test'\")\n",
    "        if stage == \"train\":\n",
    "            self.train = TensorDataset(self.data[\"tensor\"].tolist(), self.data[\"label\"].tolist())\n",
    "            \n",
    "        elif stage == \"val\":\n",
    "            self.val = TensorDataset(self.data[\"tensor\"].tolist(), self.data[\"label\"].tolist())\n",
    "            \n",
    "        elif stage == \"test\":\n",
    "            self.test = TensorDataset(self.data[\"tensor\"].tolist(), self.data[\"label\"].tolist())\n",
    "            \n",
    "    def train_dataloader(self) -> td.DataLoader:\n",
    "        return td.DataLoader(self.train, batch_size=self.batch_size, shuffle=True, drop_last=True, num_workers=0)\n",
    "\n",
    "    def val_dataloader(self) -> td.DataLoader:\n",
    "        return td.DataLoader(self.val, batch_size=self.batch_size, shuffle=False, num_workers=0)\n",
    "\n",
    "    def test_dataloader(self) -> td.DataLoader:\n",
    "        return td.DataLoader(self.test, batch_size=1, shuffle=False, num_workers=0)"
   ],
   "id": "fa7d0050483587c4",
   "outputs": [],
   "execution_count": 66
  },
  {
   "metadata": {},
   "cell_type": "markdown",
   "source": "# Modello",
   "id": "6b3d23ae69ccbfdb"
  },
  {
   "metadata": {
    "ExecuteTime": {
     "end_time": "2025-03-27T15:03:57.881933Z",
     "start_time": "2025-03-27T15:03:57.865017Z"
    }
   },
   "cell_type": "code",
   "source": [
    "import torch\n",
    "import torch.nn as nn\n",
    "import torch.nn.functional as F\n",
    "import pytorch_lightning as pl\n",
    "import torchmetrics\n",
    "\n",
    "class Model(pl.LightningModule):\n",
    "    def __init__(self):\n",
    "        super().__init__()\n",
    "        \n",
    "        self.conv1 = nn.Sequential(\n",
    "            nn.Conv2d(in_channels=3, out_channels=32, kernel_size=3, stride=2, padding=1),\n",
    "            nn.MaxPool2d(kernel_size=2, stride=2),\n",
    "            nn.SiLU()\n",
    "        )\n",
    "        \n",
    "        self.conv2 = nn.Sequential(\n",
    "            nn.Conv2d(in_channels=32, out_channels=64, kernel_size=3, stride=2, padding=1),\n",
    "            nn.BatchNorm2d(64),\n",
    "            nn.MaxPool2d(kernel_size=2, stride=2),\n",
    "            nn.SiLU()\n",
    "        )\n",
    "        \n",
    "        self.conv3 = nn.Sequential(\n",
    "            nn.Conv2d(in_channels=64, out_channels=128, kernel_size=3, stride=2, padding=1),\n",
    "            nn.BatchNorm2d(128)\n",
    "        )\n",
    "        \n",
    "        self.max_pool = nn.MaxPool2d(kernel_size=1, stride=1)\n",
    "        self.avg_pool = nn.AvgPool2d(kernel_size=1, stride=1)\n",
    "        self.attn_conv = nn.Conv2d(in_channels=256, out_channels=128, kernel_size=1, stride=1)\n",
    "        self.adapt_avg_pool = nn.AdaptiveAvgPool2d((8, 8))\n",
    "        \n",
    "        self.flatten = nn.Flatten()\n",
    "        self.fc1 = nn.Linear(128 * 8 * 8, 128)\n",
    "        self.fc2 = nn.Linear(128, 1)\n",
    "        \n",
    "    def forward(self, x):\n",
    "        x = self.conv1(x)\n",
    "        x = self.conv2(x)\n",
    "        x = self.conv3(x)\n",
    "\n",
    "        # Spatial Attention\n",
    "        maxp_x = self.max_pool(x)\n",
    "        avgp_x = self.avg_pool(x)\n",
    "        \n",
    "        spat_attn = self.attn_conv(torch.cat([maxp_x, avgp_x], dim=1))\n",
    "        new_x = torch.mul(spat_attn, x)\n",
    "        new_x = self.adapt_avg_pool(new_x)\n",
    "        new_x = F.silu(new_x)\n",
    "        \n",
    "        feat = self.flatten(new_x)\n",
    "        feat = self.fc1(feat)\n",
    "        feat = F.silu(feat)\n",
    "        feat = self.fc2(feat)\n",
    "        \n",
    "        return feat\n",
    "    \n",
    "    def compute_loss(self, yhat, y):\n",
    "        y = y.float().reshape(-1, 1)\n",
    "        return F.binary_cross_entropy_with_logits(yhat, y)\n",
    "    \n",
    "    def training_step(self, batch, batch_idx):\n",
    "        x, y = batch[\"tensor\"], batch[\"label\"]\n",
    "        yhat = self(x)\n",
    "        \n",
    "        loss = self.compute_loss(yhat, y.type_as(yhat))\n",
    "        auc = torchmetrics.AUROC(task='binary')(yhat, y)\n",
    "        \n",
    "        self.log(\"train_loss\", loss, prog_bar=True, on_epoch=True, logger=True, on_step=False)\n",
    "        self.log(\"train_auc\", auc, prog_bar=False, on_epoch=True, logger=True, on_step=False)\n",
    "        \n",
    "        return {'loss': loss}\n",
    "    \n",
    "    def validation_step(self, batch, batch_idx):\n",
    "        x, y = batch[\"tensor\"], batch[\"label\"]\n",
    "        yhat = self(x)\n",
    "\n",
    "        loss = self.compute_loss(yhat, y.type_as(yhat))\n",
    "        auc = torchmetrics.AUROC(task='binary')(yhat, y)\n",
    "        \n",
    "        self.log(\"val_loss\", loss, prog_bar=True, on_epoch=True, logger=True, on_step=False)\n",
    "        self.log(\"val_auc\", auc, prog_bar=False, on_epoch=True, logger=True, on_step=False)\n",
    "        \n",
    "        return {'val_loss': loss}        \n",
    "        \n",
    "    def test_step(self, batch, batch_idx):\n",
    "        x, y = batch[\"tensor\"], batch[\"label\"]\n",
    "        yhat = self(x)\n",
    "        \n",
    "        loss = self.compute_loss(yhat, y.type_as(yhat))\n",
    "        auc = torchmetrics.AUROC(task='binary')(yhat, y)\n",
    "        \n",
    "        self.log(\"test_loss\", loss, prog_bar=True, on_epoch=True, logger=True, on_step=False)\n",
    "        self.log(\"test_auc\", auc, prog_bar=False, on_epoch=True, logger=True, on_step=False)\n",
    "        \n",
    "        return {'test_loss': loss}\n",
    "    \n",
    "    def predict_step(self, batch):\n",
    "        x, _ = batch[\"tensor\"], batch[\"label\"]\n",
    "        yhat = self(x)\n",
    "        \n",
    "        return {\"predictions\": yhat.detach().cpu().numpy()}\n",
    "\n",
    "    def configure_optimizers(self):\n",
    "        optimizer = torch.optim.AdamW(self.parameters(), lr=1e-2, weight_decay=1e-6)\n",
    "        scheduler = torch.optim.lr_scheduler.CosineAnnealingWarmRestarts(optimizer, 100, eta_min=1e-5)\n",
    "        return {\"optimizer\": optimizer, \"lr_scheduler\": scheduler}\n",
    "\n"
   ],
   "id": "e7b35eacd69ea177",
   "outputs": [],
   "execution_count": 67
  },
  {
   "metadata": {},
   "cell_type": "markdown",
   "source": "# Data preprocessing",
   "id": "b64042f33966dcb0"
  },
  {
   "metadata": {
    "ExecuteTime": {
     "end_time": "2025-03-27T15:03:57.933560Z",
     "start_time": "2025-03-27T15:03:57.927584Z"
    }
   },
   "cell_type": "code",
   "source": [
    "import os\n",
    "import numpy as np\n",
    "import pandas as pd\n",
    "\n",
    "def data_preprocessing(data_dir, users, max_frames=115):\n",
    "    data = []\n",
    "    for user in users:\n",
    "        user_dir = os.path.join(data_dir, user)\n",
    "        tensors_dir = os.path.join(user_dir, \"tensors\")\n",
    "        print(tensors_dir)\n",
    "        for tensor_file in os.listdir(tensors_dir):\n",
    "            tensor_path = os.path.join(tensors_dir, tensor_file)\n",
    "            tensor = np.load(tensor_path)\n",
    "            if tensor.shape[0] < max_frames:\n",
    "                print(f\"Skipping {tensor_file} due to insufficient frames\")\n",
    "                continue\n",
    "            label = tensor_file.split(\"_\")[3]\n",
    "            if int(label) < 5:\n",
    "                label = 0\n",
    "            else:\n",
    "                label = 1\n",
    "            data.append({\"tensor\": tensor_path, \"label\": label})\n",
    "    return pd.DataFrame(data)"
   ],
   "id": "25aef9d95ea7224f",
   "outputs": [],
   "execution_count": 68
  },
  {
   "metadata": {},
   "cell_type": "markdown",
   "source": "# Evaluate Model",
   "id": "d743a2e20fc387e"
  },
  {
   "metadata": {
    "ExecuteTime": {
     "end_time": "2025-03-27T15:03:57.985836Z",
     "start_time": "2025-03-27T15:03:57.979158Z"
    }
   },
   "cell_type": "code",
   "source": [
    "def evaluate_model(model, test_dl):\n",
    "    model.eval()\n",
    "    all_preds = []\n",
    "    all_labels = []\n",
    "    \n",
    "    with torch.no_grad():\n",
    "        for batch in test_dl:\n",
    "            x, y = batch[\"tensor\"], batch[\"label\"]\n",
    "            yhat = model(x)\n",
    "            with open(\"predictions.txt\", \"a\") as f:\n",
    "                f.write(f\"prediction {yhat}, label {y}\\n\")\n",
    "            preds = torch.sigmoid(yhat).round().cpu().numpy()\n",
    "            all_preds.extend(preds)\n",
    "            all_labels.extend(y.cpu().numpy())\n",
    "    \n",
    "    # Confusion Matrix\n",
    "    cm = confusion_matrix(all_labels, all_preds)\n",
    "    \n",
    "    # Plot confusion matrix\n",
    "    plt.figure(figsize=(6, 5))\n",
    "    sns.heatmap(cm, annot=True, fmt='d', cmap='Blues', xticklabels=[\"Negative\", \"Positive\"], yticklabels=[\"Negative\", \"Positive\"])\n",
    "    plt.xlabel(\"Predicted Label\")\n",
    "    plt.ylabel(\"True Label\")\n",
    "    plt.title(\"Confusion Matrix\")\n",
    "    plt.show()\n",
    "    \n",
    "    return cm"
   ],
   "id": "150957509fe8e897",
   "outputs": [],
   "execution_count": 69
  },
  {
   "metadata": {},
   "cell_type": "markdown",
   "source": "# Leave-One-Out Training",
   "id": "d5531d0167305fa8"
  },
  {
   "metadata": {
    "ExecuteTime": {
     "end_time": "2025-03-27T15:03:58.041102Z",
     "start_time": "2025-03-27T15:03:58.030823Z"
    }
   },
   "cell_type": "code",
   "source": [
    "def leave_one_out_training(data_dir, max_epochs=10):\n",
    "    torch.cuda.empty_cache()\n",
    "    \n",
    "    users = sorted(os.listdir(data_dir))\n",
    "    all_fold_metrics = []\n",
    "\n",
    "    for i, user in enumerate(users):\n",
    "        print(f\"\\n=== Leave-One-Out Fold {i+1}/{len(users)} ===\")\n",
    "        \n",
    "        test_user_path = [user]\n",
    "        train_user_path = [x for x in users if x != user]\n",
    "        \n",
    "        df_train = data_preprocessing(data_dir, train_user_path)\n",
    "        df_test = data_preprocessing(data_dir, test_user_path)\n",
    "        \n",
    "        df_train, df_val = train_test_split(df_train, test_size=0.2, random_state=42)\n",
    "        \n",
    "        train_dm = TensorDataLoader(df_train, batch_size=32)\n",
    "        val_dm = TensorDataLoader(df_val, batch_size=32)\n",
    "        test_dm = TensorDataLoader(df_test, batch_size=1)\n",
    "        \n",
    "        train_dm.setup(\"train\")\n",
    "        val_dm.setup(\"val\")\n",
    "        test_dm.setup(\"test\")\n",
    "        \n",
    "        train_dl = train_dm.train_dataloader()\n",
    "        val_dl = val_dm.val_dataloader()\n",
    "        test_dl = test_dm.test_dataloader()\n",
    "        \n",
    "        early_stop = pl.callbacks.EarlyStopping(monitor='val_loss', patience=5, mode='min', verbose=True)\n",
    "        \n",
    "        trainer = pl.Trainer(devices=1, accelerator=\"auto\", precision=16, callbacks=[early_stop], max_epochs=max_epochs, gradient_clip_val=2)\n",
    "        \n",
    "        model = Model()\n",
    "        trainer.fit(model, train_dataloaders=train_dl, val_dataloaders=val_dl)\n",
    "        \n",
    "    print(\"\\n=== Evaluating on Test Set ===\")\n",
    "    cm = evaluate_model(model, test_dl)\n",
    "        \n",
    "    all_fold_metrics.append(cm)\n",
    "    \n",
    "    return all_fold_metrics\n"
   ],
   "id": "51a5407c2eae4f71",
   "outputs": [],
   "execution_count": 70
  },
  {
   "metadata": {
    "ExecuteTime": {
     "end_time": "2025-03-27T15:03:58.093959Z",
     "start_time": "2025-03-27T15:03:58.084496Z"
    }
   },
   "cell_type": "code",
   "source": [
    "def classic_train(data_dir, max_epochs=10):\n",
    "    torch.cuda.empty_cache()\n",
    "\n",
    "    users = sorted(os.listdir(data_dir))\n",
    "\n",
    "    # Pick random user for testing\n",
    "    test_user = np.random.choice(users, 1)\n",
    "\n",
    "    df_test = data_preprocessing(data_dir, test_user)\n",
    "    while df_test is None:\n",
    "        test_user = np.random.choice(users, 1)\n",
    "        df_test = data_preprocessing(data_dir, test_user)\n",
    "\n",
    "    print(f\"user {test_user[0]} is selected for testing, tensors= {len(df_test)}\")\n",
    "    all_fold_metrics = []\n",
    "\n",
    "    # Join users to data_dir\n",
    "    users = [x for x in users if x != test_user[0]]\n",
    "    df_train = data_preprocessing(data_dir, users)\n",
    "\n",
    "    # If df_train is None, handle the error\n",
    "    if df_train is None:\n",
    "        raise ValueError(\"Training data preprocessing returned None\")\n",
    "\n",
    "    df_train, df_val = train_test_split(df_train, test_size=0.2, random_state=42)\n",
    "\n",
    "    train_dm = TensorDataLoader(df_train, batch_size=32)\n",
    "    val_dm = TensorDataLoader(df_val, batch_size=32)\n",
    "    test_dm = TensorDataLoader(df_test, batch_size=1)\n",
    "\n",
    "    train_dm.setup(\"train\")\n",
    "    val_dm.setup(\"val\")\n",
    "    test_dm.setup(\"test\")\n",
    "\n",
    "    train_dl = train_dm.train_dataloader()\n",
    "    val_dl = val_dm.val_dataloader()\n",
    "    test_dl = test_dm.test_dataloader()\n",
    "\n",
    "    early_stop = pl.callbacks.EarlyStopping(monitor='val_loss', patience=5, mode='min', verbose=True)\n",
    "\n",
    "    trainer = pl.Trainer(devices=1, accelerator=\"auto\", precision=16, callbacks=[early_stop], max_epochs=max_epochs, gradient_clip_val=2)\n",
    "\n",
    "    model = Model()\n",
    "    trainer.fit(model, train_dataloaders=train_dl, val_dataloaders=val_dl)\n",
    "\n",
    "    print(\"\\n=== Evaluating on Test Set ===\")\n",
    "    cm = evaluate_model(model, test_dl)\n",
    "\n",
    "    all_fold_metrics.append(cm)\n",
    "\n",
    "    return all_fold_metrics"
   ],
   "id": "af079caf8959f4ad",
   "outputs": [],
   "execution_count": 71
  },
  {
   "metadata": {},
   "cell_type": "markdown",
   "source": "# Start training",
   "id": "c57e9834bd8890ac"
  },
  {
   "metadata": {
    "ExecuteTime": {
     "end_time": "2025-03-27T15:03:58.693668Z",
     "start_time": "2025-03-27T15:03:58.149291Z"
    }
   },
   "cell_type": "code",
   "source": "classic_train(\"data/user/sdc894f24a0678a276269c6b9d76d97edd082fa04\", 100)",
   "id": "f6e3e4854d3b964",
   "outputs": [
    {
     "name": "stderr",
     "output_type": "stream",
     "text": [
      "/home/giorgio/DataspellProjects/dl_project/venv/lib/python3.10/site-packages/lightning_fabric/connector.py:571: `precision=16` is supported for historical reasons but its usage is discouraged. Please set your precision to 16-mixed instead!\n",
      "Using 16bit Automatic Mixed Precision (AMP)\n",
      "You are using the plain ModelCheckpoint callback. Consider using LitModelCheckpoint which with seamless uploading to Model registry.\n",
      "GPU available: True (cuda), used: True\n",
      "TPU available: False, using: 0 TPU cores\n",
      "HPU available: False, using: 0 HPUs\n"
     ]
    },
    {
     "name": "stdout",
     "output_type": "stream",
     "text": [
      "data/users/e40ed6d25ae7a7af3d89a8a5bfa9339adfd237d5/tensors\n",
      "Skipping e40ed6d25ae7a7af3d89a8a5bfa9339adfd237d5_serene_ff7fa3e6-bb84-463c-9174-308615be7988.jpg_6_7_4_3.npy due to insufficient frames\n",
      "user e40ed6d25ae7a7af3d89a8a5bfa9339adfd237d5 is selected for testing, tensors= 33\n"
     ]
    },
    {
     "name": "stderr",
     "output_type": "stream",
     "text": [
      "LOCAL_RANK: 0 - CUDA_VISIBLE_DEVICES: [0]\n",
      "\n",
      "  | Name           | Type              | Params | Mode \n",
      "-------------------------------------------------------------\n",
      "0 | conv1          | Sequential        | 896    | train\n",
      "1 | conv2          | Sequential        | 18.6 K | train\n",
      "2 | conv3          | Sequential        | 74.1 K | train\n",
      "3 | max_pool       | MaxPool2d         | 0      | train\n",
      "4 | avg_pool       | AvgPool2d         | 0      | train\n",
      "5 | attn_conv      | Conv2d            | 32.9 K | train\n",
      "6 | adapt_avg_pool | AdaptiveAvgPool2d | 0      | train\n",
      "7 | flatten        | Flatten           | 0      | train\n",
      "8 | fc1            | Linear            | 1.0 M  | train\n",
      "9 | fc2            | Linear            | 129    | train\n",
      "-------------------------------------------------------------\n",
      "1.2 M     Trainable params\n",
      "0         Non-trainable params\n",
      "1.2 M     Total params\n",
      "4.701     Total estimated model params size (MB)\n",
      "19        Modules in train mode\n",
      "0         Modules in eval mode\n"
     ]
    },
    {
     "name": "stdout",
     "output_type": "stream",
     "text": [
      "                                                                            "
     ]
    },
    {
     "name": "stderr",
     "output_type": "stream",
     "text": [
      "/home/giorgio/DataspellProjects/dl_project/venv/lib/python3.10/site-packages/pytorch_lightning/trainer/connectors/data_connector.py:425: The 'val_dataloader' does not have many workers which may be a bottleneck. Consider increasing the value of the `num_workers` argument` to `num_workers=11` in the `DataLoader` to improve performance.\n",
      "/home/giorgio/DataspellProjects/dl_project/venv/lib/python3.10/site-packages/pytorch_lightning/trainer/connectors/data_connector.py:425: The 'train_dataloader' does not have many workers which may be a bottleneck. Consider increasing the value of the `num_workers` argument` to `num_workers=11` in the `DataLoader` to improve performance.\n",
      "/home/giorgio/DataspellProjects/dl_project/venv/lib/python3.10/site-packages/pytorch_lightning/utilities/data.py:106: Total length of `DataLoader` across ranks is zero. Please make sure this was your intention.\n",
      "/home/giorgio/DataspellProjects/dl_project/venv/lib/python3.10/site-packages/pytorch_lightning/utilities/data.py:106: Total length of `CombinedLoader` across ranks is zero. Please make sure this was your intention.\n",
      "`Trainer.fit` stopped: No training batches.\n"
     ]
    },
    {
     "name": "stdout",
     "output_type": "stream",
     "text": [
      "\r\n",
      "=== Evaluating on Test Set ===\n"
     ]
    },
    {
     "data": {
      "text/plain": [
       "<Figure size 600x500 with 2 Axes>"
      ],
      "image/png": "[encoded data removed]"
     },
     "metadata": {},
     "output_type": "display_data"
    },
    {
     "data": {
      "text/plain": [
       "[array([[ 8,  0],\n",
       "        [25,  0]])]"
      ]
     },
     "execution_count": 72,
     "metadata": {},
     "output_type": "execute_result"
    }
   ],
   "execution_count": 72
  }
 ],
 "metadata": {
  "kernelspec": {
   "display_name": "Python 3",
   "language": "python",
   "name": "python3"
  },
  "language_info": {
   "codemirror_mode": {
    "name": "ipython",
    "version": 2
   },
   "file_extension": ".py",
   "mimetype": "text/x-python",
   "name": "python",
   "nbconvert_exporter": "python",
   "pygments_lexer": "ipython2",
   "version": "2.7.6"
  }
 },
 "nbformat": 4,
 "nbformat_minor": 5
}
